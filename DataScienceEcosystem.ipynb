{
 "cells": [
  {
   "cell_type": "markdown",
   "id": "985ec4b8-cf1d-4e4c-9a36-c7addb168252",
   "metadata": {},
   "source": [
    "<h1>Data Science Tools and Ecosystem</h1>"
   ]
  },
  {
   "cell_type": "markdown",
   "id": "9d676ab3-a446-4fc9-9df3-485cc1dc80a5",
   "metadata": {},
   "source": [
    "In this notebook, Data Science Tools and Ecosystem are summarized."
   ]
  },
  {
   "cell_type": "markdown",
   "id": "a8fb42c0-f517-4ed1-8aca-4026fcb2ea60",
   "metadata": {},
   "source": [
    "Some of the popular languages that Data Scientists use are:\n",
    "<ol>\n",
    "<li>Python\n",
    "<li>R\n",
    "<li>Java\n",
    "<li>C++"
   ]
  },
  {
   "cell_type": "markdown",
   "id": "cfe33cdb-11d5-441c-b3a6-a7d527fea008",
   "metadata": {
    "tags": []
   },
   "source": [
    "Some of the commonly used libraries used by Data Scientists include:\n",
    "<ol>\n",
    "    <li>NumPy\n",
    "    <li>Pandas\n",
    "    <li>Scikit-learn"
   ]
  },
  {
   "cell_type": "markdown",
   "id": "c91da482-7369-4577-a588-8b878cee0916",
   "metadata": {},
   "source": [
    "|Data Science Tools|\n",
    "|:-----------------|\n",
    "|JupyterLab        |\n",
    "|Visual Studio Code|\n",
    "|Anaconda          |"
   ]
  },
  {
   "cell_type": "markdown",
   "id": "7d2d2fc2-b702-445b-afcc-305df36f2ddf",
   "metadata": {},
   "source": [
    "<h3>Below are a few examples of evaluating arithmetic expressions in Python</h3>"
   ]
  },
  {
   "cell_type": "code",
   "execution_count": 2,
   "id": "6982ce51-9e5d-4a4a-88f4-ca3e58ddea42",
   "metadata": {
    "tags": []
   },
   "outputs": [
    {
     "data": {
      "text/plain": [
       "17"
      ]
     },
     "execution_count": 2,
     "metadata": {},
     "output_type": "execute_result"
    }
   ],
   "source": [
    "# This a simple arithmetic expression to mutiply then add integers\n",
    "(3*4)+5"
   ]
  },
  {
   "cell_type": "code",
   "execution_count": 6,
   "id": "704db31d-8a75-4c83-9b91-ab4c2bf29804",
   "metadata": {
    "tags": []
   },
   "outputs": [
    {
     "data": {
      "text/plain": [
       "3.3333333333333335"
      ]
     },
     "execution_count": 6,
     "metadata": {},
     "output_type": "execute_result"
    }
   ],
   "source": [
    "# This will convert 200 minutes to hours by diving by 60\n",
    "200/60"
   ]
  },
  {
   "cell_type": "markdown",
   "id": "3611551b-6a8e-415d-93fb-0b5cb7592753",
   "metadata": {},
   "source": [
    "**Objectives:**\n",
    "- List popular languages for Data Science\n",
    "- List popular Python Libraries for Data Science\n",
    "- List popular Tools for Data Science\n",
    "- Examples for arithmetic expressions in Python"
   ]
  },
  {
   "cell_type": "markdown",
   "id": "767211f7-133c-4207-b186-31200a0900f0",
   "metadata": {},
   "source": [
    "<h2>Author</h2>\n",
    "Muppaneni Lokesh Chowdary"
   ]
  }
 ],
 "metadata": {
  "kernelspec": {
   "display_name": "Python",
   "language": "python",
   "name": "conda-env-python-py"
  },
  "language_info": {
   "codemirror_mode": {
    "name": "ipython",
    "version": 3
   },
   "file_extension": ".py",
   "mimetype": "text/x-python",
   "name": "python",
   "nbconvert_exporter": "python",
   "pygments_lexer": "ipython3",
   "version": "3.7.12"
  }
 },
 "nbformat": 4,
 "nbformat_minor": 5
}
